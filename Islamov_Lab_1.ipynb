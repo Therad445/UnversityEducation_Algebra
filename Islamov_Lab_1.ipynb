{
 "cells": [
  {
   "cell_type": "markdown",
   "id": "f47f31d3-d8d3-4d24-bec8-8f18fe866063",
   "metadata": {},
   "source": [
    "Упражнение 1"
   ]
  },
  {
   "cell_type": "code",
   "execution_count": 1,
   "id": "683793fb-20b9-4b9c-90a6-46668c954377",
   "metadata": {},
   "outputs": [
    {
     "data": {
      "text/plain": [
       "6"
      ]
     },
     "execution_count": 1,
     "metadata": {},
     "output_type": "execute_result"
    }
   ],
   "source": [
    "2*3"
   ]
  },
  {
   "cell_type": "code",
   "execution_count": 2,
   "id": "6b2d1849-c00a-4475-aef2-363f2b22a746",
   "metadata": {},
   "outputs": [
    {
     "name": "stdout",
     "output_type": "stream",
     "text": [
      "7\n"
     ]
    }
   ],
   "source": [
    "k=3+4\n",
    "print(k)"
   ]
  },
  {
   "cell_type": "code",
   "execution_count": 3,
   "id": "fd6bcb87-c5c7-42eb-bb79-b0288186ca30",
   "metadata": {},
   "outputs": [
    {
     "data": {
      "text/plain": [
       "48"
      ]
     },
     "execution_count": 3,
     "metadata": {},
     "output_type": "execute_result"
    }
   ],
   "source": [
    "(k+1)*(k-1)"
   ]
  },
  {
   "cell_type": "code",
   "execution_count": 5,
   "id": "25f6c02f-5334-4557-adb3-2a548ee96968",
   "metadata": {},
   "outputs": [
    {
     "ename": "NameError",
     "evalue": "name 'x' is not defined",
     "output_type": "error",
     "traceback": [
      "\u001b[1;31m---------------------------------------------------------------------------\u001b[0m",
      "\u001b[1;31mNameError\u001b[0m                                 Traceback (most recent call last)",
      "\u001b[1;32m~\\AppData\\Local\\Temp\\ipykernel_40120\\1257582832.py\u001b[0m in \u001b[0;36m<module>\u001b[1;34m\u001b[0m\n\u001b[1;32m----> 1\u001b[1;33m \u001b[1;33m(\u001b[0m\u001b[0mx\u001b[0m\u001b[1;33m+\u001b[0m\u001b[1;36m1\u001b[0m\u001b[1;33m)\u001b[0m\u001b[1;33m*\u001b[0m\u001b[1;33m(\u001b[0m\u001b[0mx\u001b[0m\u001b[1;33m-\u001b[0m\u001b[1;36m1\u001b[0m\u001b[1;33m)\u001b[0m\u001b[1;33m\u001b[0m\u001b[1;33m\u001b[0m\u001b[0m\n\u001b[0m",
      "\u001b[1;31mNameError\u001b[0m: name 'x' is not defined"
     ]
    }
   ],
   "source": [
    "(x+1)*(x-1)"
   ]
  },
  {
   "cell_type": "code",
   "execution_count": 6,
   "id": "e5c1d684-de92-4ab1-9d5a-3b3a060c2118",
   "metadata": {},
   "outputs": [
    {
     "name": "stdout",
     "output_type": "stream",
     "text": [
      "44\n"
     ]
    }
   ],
   "source": [
    "h=(k+2)*3+\\\n",
    "3+(k+7)\n",
    "print(h)"
   ]
  },
  {
   "cell_type": "markdown",
   "id": "e134807f-508c-4475-9fd1-e284ded9103d",
   "metadata": {},
   "source": [
    "Упражнение 2"
   ]
  },
  {
   "cell_type": "code",
   "execution_count": 7,
   "id": "ce696152-ffbc-4498-bf8c-f9777824d32c",
   "metadata": {},
   "outputs": [
    {
     "data": {
      "text/plain": [
       "66"
      ]
     },
     "execution_count": 7,
     "metadata": {},
     "output_type": "execute_result"
    }
   ],
   "source": [
    "a=-1\n",
    "b=3\n",
    "c=2\n",
    "abs(a+2)*abs(b-1)+c**(2*b)"
   ]
  },
  {
   "cell_type": "markdown",
   "id": "ec5ef706-2ccc-40e3-a1c2-451fa02aa9b6",
   "metadata": {},
   "source": [
    "Упражнение 3"
   ]
  },
  {
   "cell_type": "code",
   "execution_count": 8,
   "id": "4c5db290-6253-4639-923b-f824cccb3534",
   "metadata": {},
   "outputs": [
    {
     "name": "stdout",
     "output_type": "stream",
     "text": [
      "6.300000000000001\n",
      "False\n"
     ]
    }
   ],
   "source": [
    "a=4.2\n",
    "b=2.1\n",
    "print(a+b)\n",
    "print(a+b==6.3)"
   ]
  },
  {
   "cell_type": "code",
   "execution_count": 9,
   "id": "a5cfe7f9-04d2-4f70-b82e-709d15805069",
   "metadata": {},
   "outputs": [
    {
     "name": "stdout",
     "output_type": "stream",
     "text": [
      "6.3\n",
      "False\n"
     ]
    }
   ],
   "source": [
    "a=4.2\n",
    "b=2.1\n",
    "x = a+b\n",
    "print(format(x, '0.1f'))\n",
    "print(format(x, '0.2f')==6.3)"
   ]
  },
  {
   "cell_type": "code",
   "execution_count": 10,
   "id": "c20533ad-ecef-429b-bd41-0abddb6e8ac9",
   "metadata": {},
   "outputs": [],
   "source": [
    "x = 1234.56789"
   ]
  },
  {
   "cell_type": "code",
   "execution_count": 11,
   "id": "3e2ee4e3-41a7-486b-bdd1-7befcdb72b40",
   "metadata": {},
   "outputs": [
    {
     "data": {
      "text/plain": [
       "'1234.57'"
      ]
     },
     "execution_count": 11,
     "metadata": {},
     "output_type": "execute_result"
    }
   ],
   "source": [
    "# Два десятичных знака точности после запятой\n",
    "format(x, '0.2f')"
   ]
  },
  {
   "cell_type": "code",
   "execution_count": 12,
   "id": "287af1b7-ba17-43ff-a845-68042fe94638",
   "metadata": {},
   "outputs": [
    {
     "data": {
      "text/plain": [
       "'    1234.6'"
      ]
     },
     "execution_count": 12,
     "metadata": {},
     "output_type": "execute_result"
    }
   ],
   "source": [
    "# Выравнивание по правому краю в 10 символов, один знак точности \n",
    "format(x, '>10.1f')"
   ]
  },
  {
   "cell_type": "code",
   "execution_count": 13,
   "id": "08966435-a101-4357-bb12-e96cd0dd70dd",
   "metadata": {},
   "outputs": [
    {
     "data": {
      "text/plain": [
       "'1234.6    '"
      ]
     },
     "execution_count": 13,
     "metadata": {},
     "output_type": "execute_result"
    }
   ],
   "source": [
    "# Выравнивание по левому краю \n",
    "format(x, '<10.1f')"
   ]
  },
  {
   "cell_type": "code",
   "execution_count": 14,
   "id": "5fa13e8d-9782-431e-b35a-1b13885fd213",
   "metadata": {},
   "outputs": [
    {
     "data": {
      "text/plain": [
       "'  1234.6  '"
      ]
     },
     "execution_count": 14,
     "metadata": {},
     "output_type": "execute_result"
    }
   ],
   "source": [
    "# Выравнивание по центру \n",
    "format(x, '^10.1f')"
   ]
  },
  {
   "cell_type": "code",
   "execution_count": 15,
   "id": "5eb30f72-d4fd-442d-9393-3ba237a6fab9",
   "metadata": {},
   "outputs": [
    {
     "data": {
      "text/plain": [
       "'1,234.56789'"
      ]
     },
     "execution_count": 15,
     "metadata": {},
     "output_type": "execute_result"
    }
   ],
   "source": [
    "# Включение разделителя разрядов \n",
    "format(x,',')"
   ]
  },
  {
   "cell_type": "code",
   "execution_count": 16,
   "id": "b36ae351-74b0-4d1e-946e-3ecbaf35c3e2",
   "metadata": {},
   "outputs": [
    {
     "data": {
      "text/plain": [
       "'1,234.6'"
      ]
     },
     "execution_count": 16,
     "metadata": {},
     "output_type": "execute_result"
    }
   ],
   "source": [
    "format(x, '0,.1f')"
   ]
  },
  {
   "cell_type": "code",
   "execution_count": 17,
   "id": "9be704b4-02aa-45fc-a477-fb36442932fb",
   "metadata": {},
   "outputs": [
    {
     "data": {
      "text/plain": [
       "'1.234568e+03'"
      ]
     },
     "execution_count": 17,
     "metadata": {},
     "output_type": "execute_result"
    }
   ],
   "source": [
    "format(x, 'e')"
   ]
  },
  {
   "cell_type": "code",
   "execution_count": 18,
   "id": "87072af3-4de9-450c-9e8f-2f95df6b0f41",
   "metadata": {},
   "outputs": [
    {
     "data": {
      "text/plain": [
       "'1.23E+03'"
      ]
     },
     "execution_count": 18,
     "metadata": {},
     "output_type": "execute_result"
    }
   ],
   "source": [
    "format(x, '0.2E')"
   ]
  },
  {
   "cell_type": "markdown",
   "id": "af2de986-0d9c-4fc5-ac8e-8bcc3738b658",
   "metadata": {},
   "source": [
    "Упражнение 4"
   ]
  },
  {
   "cell_type": "code",
   "execution_count": 19,
   "id": "c44c0053-44fb-42c1-8358-eee4def79a9b",
   "metadata": {},
   "outputs": [
    {
     "name": "stdout",
     "output_type": "stream",
     "text": [
      "  0.190\n",
      " 16.062\n",
      "  4.923\n"
     ]
    }
   ],
   "source": [
    "x=1/3-1/7\n",
    "y=2**4+2**-4\n",
    "z=(3+0.2)/(1-0.35)\n",
    "print(format(x, '>7.3f'))\n",
    "print(format(y, '>7.3f'))\n",
    "print(format(z, '>7.3f'))"
   ]
  },
  {
   "cell_type": "markdown",
   "id": "de2bd2f2-d229-4c2d-9514-23d80b53a6cb",
   "metadata": {},
   "source": [
    "Упражнение 5"
   ]
  },
  {
   "cell_type": "code",
   "execution_count": 21,
   "id": "595f5c3f-ec55-4ade-adc7-4f080f934c9e",
   "metadata": {},
   "outputs": [
    {
     "name": "stdin",
     "output_type": "stream",
     "text": [
      "Once deleted, variables cannot be recovered. Proceed (y/[n])?  y\n"
     ]
    }
   ],
   "source": [
    "%reset"
   ]
  },
  {
   "cell_type": "code",
   "execution_count": 22,
   "id": "e64b86e8-8991-43cf-8726-aac9aeb72290",
   "metadata": {},
   "outputs": [],
   "source": [
    "x,y,z,t = 1,2,3,4"
   ]
  },
  {
   "cell_type": "code",
   "execution_count": 23,
   "id": "7238caac-40cd-4b9e-9247-91c282d0bd15",
   "metadata": {},
   "outputs": [
    {
     "name": "stdout",
     "output_type": "stream",
     "text": [
      "Variable   Type    Data/Info\n",
      "----------------------------\n",
      "t          int     4\n",
      "x          int     1\n",
      "y          int     2\n",
      "z          int     3\n"
     ]
    }
   ],
   "source": [
    "%whos"
   ]
  },
  {
   "cell_type": "code",
   "execution_count": 24,
   "id": "6b9aebbd-c434-4072-9839-13d4d7273f9b",
   "metadata": {},
   "outputs": [],
   "source": [
    "del(x)"
   ]
  },
  {
   "cell_type": "code",
   "execution_count": 25,
   "id": "43bedaac-85df-46db-9bee-e9b2f84e0bba",
   "metadata": {},
   "outputs": [
    {
     "name": "stdout",
     "output_type": "stream",
     "text": [
      "Variable   Type    Data/Info\n",
      "----------------------------\n",
      "t          int     4\n",
      "y          int     2\n",
      "z          int     3\n"
     ]
    }
   ],
   "source": [
    "%whos"
   ]
  },
  {
   "cell_type": "markdown",
   "id": "adbcf8fd-8cba-4bc5-bea4-5fcbd3d57fee",
   "metadata": {},
   "source": [
    "Упражнение 6"
   ]
  },
  {
   "cell_type": "code",
   "execution_count": 26,
   "id": "24dae043-c795-4beb-adde-24f7490e02f9",
   "metadata": {},
   "outputs": [
    {
     "name": "stdout",
     "output_type": "stream",
     "text": [
      "2.718281828459045\n",
      "3.141592653589793\n"
     ]
    }
   ],
   "source": [
    "from math import e, pi\n",
    "print(e)\n",
    "print(pi)"
   ]
  },
  {
   "cell_type": "markdown",
   "id": "7c33383a-f044-4288-8d32-063b54dde39f",
   "metadata": {},
   "source": [
    "Упражнение 7"
   ]
  },
  {
   "cell_type": "code",
   "execution_count": 27,
   "id": "4c93ee60-c02f-4b0f-bb68-fdf36c67bff5",
   "metadata": {},
   "outputs": [
    {
     "data": {
      "text/plain": [
       "2.8951125538319022"
      ]
     },
     "execution_count": 27,
     "metadata": {},
     "output_type": "execute_result"
    }
   ],
   "source": [
    "from math import *\n",
    "log(exp(3)-2)"
   ]
  },
  {
   "cell_type": "code",
   "execution_count": 28,
   "id": "532ae0a1-858f-4f81-868c-c2a380323aac",
   "metadata": {},
   "outputs": [
    {
     "data": {
      "text/plain": [
       "1.0"
      ]
     },
     "execution_count": 28,
     "metadata": {},
     "output_type": "execute_result"
    }
   ],
   "source": [
    "sqrt(sin(1)**2+cos(1)**2)"
   ]
  }
 ],
 "metadata": {
  "kernelspec": {
   "display_name": "Python 3 (ipykernel)",
   "language": "python",
   "name": "python3"
  },
  "language_info": {
   "codemirror_mode": {
    "name": "ipython",
    "version": 3
   },
   "file_extension": ".py",
   "mimetype": "text/x-python",
   "name": "python",
   "nbconvert_exporter": "python",
   "pygments_lexer": "ipython3",
   "version": "3.9.13"
  }
 },
 "nbformat": 4,
 "nbformat_minor": 5
}
