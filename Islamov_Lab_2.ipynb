{
 "cells": [
  {
   "cell_type": "code",
   "execution_count": 1,
   "id": "c399e34d-af1b-4f06-99de-d7d132f9a60d",
   "metadata": {},
   "outputs": [],
   "source": [
    "import numpy as np\n",
    "from sympy import *"
   ]
  },
  {
   "cell_type": "markdown",
   "id": "673e15c5-8248-46e0-9ba7-c295da3ae70a",
   "metadata": {},
   "source": [
    "Пример 1"
   ]
  },
  {
   "cell_type": "code",
   "execution_count": 2,
   "id": "b8370d40-5f61-4fe7-9879-461358a07eeb",
   "metadata": {},
   "outputs": [
    {
     "name": "stdout",
     "output_type": "stream",
     "text": [
      "[[1 2]\n",
      " [3 4]]\n"
     ]
    }
   ],
   "source": [
    "arr = np.array([[1,2],[3,4]])\n",
    "print(arr)"
   ]
  },
  {
   "cell_type": "code",
   "execution_count": 3,
   "id": "1e62fb2e-0e50-4b29-9541-317aa64a2feb",
   "metadata": {},
   "outputs": [
    {
     "name": "stdout",
     "output_type": "stream",
     "text": [
      "[[1 2]\n",
      " [3 4]]\n"
     ]
    }
   ],
   "source": [
    "arr = np.matrix([[1,2],[3,4]])\n",
    "print(arr)"
   ]
  },
  {
   "cell_type": "code",
   "execution_count": 4,
   "id": "aab237b8-a745-4f90-a10e-9eedb7a9aa6d",
   "metadata": {},
   "outputs": [
    {
     "name": "stdout",
     "output_type": "stream",
     "text": [
      "[[1 2 3]\n",
      " [4 5 6]\n",
      " [7 8 9]]\n"
     ]
    }
   ],
   "source": [
    "arr = np.matrix('1 2 3; 4 5 6; 7 8 9')\n",
    "print(arr)"
   ]
  },
  {
   "cell_type": "code",
   "execution_count": 5,
   "id": "1aac849b-3820-44e4-b865-52d7d9873121",
   "metadata": {},
   "outputs": [
    {
     "data": {
      "text/latex": [
       "$\\displaystyle \\left[\\begin{matrix}1 & 2\\\\3 & 4\\end{matrix}\\right]$"
      ],
      "text/plain": [
       "Matrix([\n",
       "[1, 2],\n",
       "[3, 4]])"
      ]
     },
     "execution_count": 5,
     "metadata": {},
     "output_type": "execute_result"
    }
   ],
   "source": [
    "a = Matrix([[1,2],[3,4]])\n",
    "a"
   ]
  },
  {
   "cell_type": "markdown",
   "id": "46c9a671-2ecd-48a1-96d5-20bebf5d6d72",
   "metadata": {},
   "source": [
    "Вычисление определителя"
   ]
  },
  {
   "cell_type": "code",
   "execution_count": 6,
   "id": "5939e6c7-9a88-4179-918f-704d32b58b88",
   "metadata": {},
   "outputs": [
    {
     "data": {
      "text/plain": [
       "-2"
      ]
     },
     "execution_count": 6,
     "metadata": {},
     "output_type": "execute_result"
    }
   ],
   "source": [
    "arr = np.matrix('1 2; 3 4')\n",
    "detA = arr[0,0] * arr[1,1] - arr[0,1] * arr[1, 0]\n",
    "detA"
   ]
  },
  {
   "cell_type": "code",
   "execution_count": 7,
   "id": "8c2678c6-b333-4ac9-9dc8-c95a2201be18",
   "metadata": {},
   "outputs": [
    {
     "name": "stdout",
     "output_type": "stream",
     "text": [
      "-2.0000000000000004\n"
     ]
    }
   ],
   "source": [
    "detA = np.linalg.det(arr)\n",
    "print(detA)"
   ]
  },
  {
   "cell_type": "code",
   "execution_count": 8,
   "id": "925b1876-617d-479d-9786-2ae3bde99760",
   "metadata": {},
   "outputs": [
    {
     "data": {
      "text/latex": [
       "$\\displaystyle -2$"
      ],
      "text/plain": [
       "-2"
      ]
     },
     "execution_count": 8,
     "metadata": {},
     "output_type": "execute_result"
    }
   ],
   "source": [
    "det(a)"
   ]
  },
  {
   "cell_type": "markdown",
   "id": "80b9bcbe-9402-46c4-9932-52a29c426dc6",
   "metadata": {},
   "source": [
    "Упражнение 2.1"
   ]
  },
  {
   "cell_type": "code",
   "execution_count": 9,
   "id": "b7e0b1cc-3f5f-4e60-9048-135c769b8f3e",
   "metadata": {},
   "outputs": [
    {
     "data": {
      "text/latex": [
       "$\\displaystyle 18$"
      ],
      "text/plain": [
       "18"
      ]
     },
     "execution_count": 9,
     "metadata": {},
     "output_type": "execute_result"
    }
   ],
   "source": [
    "v=Matrix([[-1,4],[-5,2]])\n",
    "det(v)"
   ]
  },
  {
   "cell_type": "code",
   "execution_count": 10,
   "id": "6a3e8197-19cd-49a3-8c10-b43aab5ba99a",
   "metadata": {},
   "outputs": [
    {
     "data": {
      "text/latex": [
       "$\\displaystyle 0$"
      ],
      "text/plain": [
       "0"
      ]
     },
     "execution_count": 10,
     "metadata": {},
     "output_type": "execute_result"
    }
   ],
   "source": [
    "a,b=symbols('a b')\n",
    "v=Matrix([[a+b, a-b],[a+b,a-b]])\n",
    "det(v)"
   ]
  },
  {
   "cell_type": "code",
   "execution_count": 11,
   "id": "5bd5bb9c-f4d5-48d0-8d31-b46f2a22e870",
   "metadata": {},
   "outputs": [
    {
     "data": {
      "text/latex": [
       "$\\displaystyle x^{2} + 5 x + 4$"
      ],
      "text/plain": [
       "x**2 + 5*x + 4"
      ]
     },
     "execution_count": 11,
     "metadata": {},
     "output_type": "execute_result"
    }
   ],
   "source": [
    "x = symbols('x')\n",
    "v = Matrix([[x, (x+1)],[-4, (x+1)]])\n",
    "det(v)"
   ]
  },
  {
   "cell_type": "markdown",
   "id": "62728d43-ba61-438d-a60e-4b932e0ac2bb",
   "metadata": {},
   "source": [
    "Упражнение 2.2"
   ]
  },
  {
   "cell_type": "code",
   "execution_count": 12,
   "id": "49137c12-b096-45e5-8721-e36dcba16c23",
   "metadata": {},
   "outputs": [
    {
     "data": {
      "text/latex": [
       "$\\displaystyle 24$"
      ],
      "text/plain": [
       "24"
      ]
     },
     "execution_count": 12,
     "metadata": {},
     "output_type": "execute_result"
    }
   ],
   "source": [
    "v = Matrix([[1,2,3],[4,5,6],[7,8,1]])\n",
    "det(v)"
   ]
  },
  {
   "cell_type": "code",
   "execution_count": 13,
   "id": "338b9543-556a-4778-86a7-0f4d5904aba3",
   "metadata": {},
   "outputs": [
    {
     "data": {
      "text/latex": [
       "$\\displaystyle 0$"
      ],
      "text/plain": [
       "0"
      ]
     },
     "execution_count": 13,
     "metadata": {},
     "output_type": "execute_result"
    }
   ],
   "source": [
    "v = Matrix([[3,4,-5],[8,7,-2],[2,-1,8]])\n",
    "det(v)"
   ]
  },
  {
   "cell_type": "code",
   "execution_count": 14,
   "id": "a7d15e44-9bb8-4e23-87c7-6ea22eae9c55",
   "metadata": {},
   "outputs": [
    {
     "data": {
      "text/latex": [
       "$\\displaystyle a b c + a b x + a c x + b c x$"
      ],
      "text/plain": [
       "a*b*c + a*b*x + a*c*x + b*c*x"
      ]
     },
     "execution_count": 14,
     "metadata": {},
     "output_type": "execute_result"
    }
   ],
   "source": [
    "a,b,c,x = symbols('a b c x')\n",
    "v = Matrix([[a+x,x,x],[x,b+x,x],[x,x,c+x]])\n",
    "det(v)"
   ]
  },
  {
   "cell_type": "code",
   "execution_count": 15,
   "id": "7ab04fb7-5245-4ac6-b392-6c0d9185c5ff",
   "metadata": {},
   "outputs": [
    {
     "data": {
      "text/latex": [
       "$\\displaystyle \\sin{\\left(a \\right)} \\cos{\\left(b \\right)} - \\sin{\\left(a \\right)} \\cos{\\left(c \\right)} - \\sin{\\left(b \\right)} \\cos{\\left(a \\right)} + \\sin{\\left(b \\right)} \\cos{\\left(c \\right)} + \\sin{\\left(c \\right)} \\cos{\\left(a \\right)} - \\sin{\\left(c \\right)} \\cos{\\left(b \\right)}$"
      ],
      "text/plain": [
       "sin(a)*cos(b) - sin(a)*cos(c) - sin(b)*cos(a) + sin(b)*cos(c) + sin(c)*cos(a) - sin(c)*cos(b)"
      ]
     },
     "execution_count": 15,
     "metadata": {},
     "output_type": "execute_result"
    }
   ],
   "source": [
    "a,b,c = symbols('a b c')\n",
    "v = Matrix([[sin(a),cos(a),1],[sin(b),cos(b),1],[sin(c),cos(c),1]])\n",
    "det(v)"
   ]
  },
  {
   "cell_type": "code",
   "execution_count": 16,
   "id": "644b9b30-5074-44d4-8600-e2f1799dc4f2",
   "metadata": {},
   "outputs": [
    {
     "name": "stdout",
     "output_type": "stream",
     "text": [
      "[[ 3 -1  2]\n",
      " [ 1  4 -1]\n",
      " [ 2  3  1]]\n",
      "[[-4]\n",
      " [10]\n",
      " [ 8]]\n",
      "13.999999999999996\n",
      "[[-4 -1  2]\n",
      " [10  4 -1]\n",
      " [ 8  3  1]]\n",
      "[[ 3 -4  2]\n",
      " [ 1 10 -1]\n",
      " [ 2  8  1]]\n",
      "[[ 3 -1 -4]\n",
      " [ 1  4 10]\n",
      " [ 2  3  8]]\n",
      "-1.0000000000000009\n",
      "3.0000000000000013\n",
      "1.0\n"
     ]
    }
   ],
   "source": [
    "A = np.matrix('3 -1 2; 1 4 -1; 2 3 1')\n",
    "print(A)\n",
    "B = np.matrix('-4; 10; 8')\n",
    "print(B)\n",
    "A_det = np.linalg.det(A)\n",
    "print(A_det)\n",
    "X_m = np.matrix(A)\n",
    "X_m[:, 0] = B\n",
    "print(X_m)\n",
    "Y_m = np.matrix(A)\n",
    "Y_m[:, 1] = B\n",
    "print(Y_m)\n",
    "Z_m = np.matrix(A)\n",
    "Z_m[:, 2] = B\n",
    "print(Z_m)\n",
    "x = np.linalg.det(X_m) / A_det\n",
    "y = np.linalg.det(Y_m) / A_det\n",
    "z = np.linalg.det(Z_m) / A_det\n",
    "print(x)\n",
    "print(y)\n",
    "print(z)"
   ]
  },
  {
   "cell_type": "markdown",
   "id": "f538698d-5903-455f-8940-32ea5975112c",
   "metadata": {},
   "source": [
    "Упражнение 2.3"
   ]
  },
  {
   "cell_type": "code",
   "execution_count": 17,
   "id": "3e67d421-cf05-467c-b52f-33c68880c5a1",
   "metadata": {},
   "outputs": [
    {
     "name": "stdout",
     "output_type": "stream",
     "text": [
      "[[ 3 -5]\n",
      " [ 2  7]]\n",
      "[[13]\n",
      " [81]]\n",
      "31.0\n",
      "[[13 -5]\n",
      " [81  7]]\n",
      "[[ 3 13]\n",
      " [ 2 81]]\n",
      "16.000000000000007\n",
      "7.000000000000001\n"
     ]
    }
   ],
   "source": [
    "A = np.matrix('3 -5; 2 7')\n",
    "print(A)\n",
    "B = np.matrix('13; 81')\n",
    "print(B)\n",
    "A_det = np.linalg.det(A)\n",
    "print(A_det)\n",
    "X_m = np.matrix(A)\n",
    "X_m[:, 0] = B\n",
    "print(X_m)\n",
    "Y_m = np.matrix(A)\n",
    "Y_m[:, 1] = B\n",
    "print(Y_m)\n",
    "x = np.linalg.det(X_m) / A_det\n",
    "y = np.linalg.det(Y_m) / A_det\n",
    "print(x)\n",
    "print(y)"
   ]
  },
  {
   "cell_type": "code",
   "execution_count": 18,
   "id": "a8312045-bc5f-4ef5-8e2f-d60b1fbf0f01",
   "metadata": {},
   "outputs": [
    {
     "name": "stdout",
     "output_type": "stream",
     "text": [
      "[[ 3 -4]\n",
      " [-6  8]]\n",
      "[[-6]\n",
      " [12]]\n",
      "0.0\n",
      "[[-6 -4]\n",
      " [12  8]]\n",
      "[[ 3 -6]\n",
      " [-6 12]]\n",
      "nan\n",
      "nan\n"
     ]
    },
    {
     "name": "stderr",
     "output_type": "stream",
     "text": [
      "C:\\Users\\user\\AppData\\Local\\Temp\\ipykernel_30964\\930468612.py:13: RuntimeWarning: invalid value encountered in double_scalars\n",
      "  x = np.linalg.det(X_m) / A_det\n",
      "C:\\Users\\user\\AppData\\Local\\Temp\\ipykernel_30964\\930468612.py:14: RuntimeWarning: invalid value encountered in double_scalars\n",
      "  y = np.linalg.det(Y_m) / A_det\n"
     ]
    }
   ],
   "source": [
    "A = np.matrix('3 -4; -6 8')\n",
    "print(A)\n",
    "B = np.matrix('-6; 12')\n",
    "print(B)\n",
    "A_det = np.linalg.det(A)\n",
    "print(A_det)\n",
    "X_m = np.matrix(A)\n",
    "X_m[:, 0] = B\n",
    "print(X_m)\n",
    "Y_m = np.matrix(A)\n",
    "Y_m[:, 1] = B\n",
    "print(Y_m)\n",
    "x = np.linalg.det(X_m) / A_det\n",
    "y = np.linalg.det(Y_m) / A_det\n",
    "print(x)\n",
    "print(y)"
   ]
  },
  {
   "cell_type": "markdown",
   "id": "c11ccdaf-7f60-4630-84fb-1ecf1ffc8f40",
   "metadata": {},
   "source": [
    "Определитель равен 0"
   ]
  },
  {
   "cell_type": "code",
   "execution_count": 19,
   "id": "e6e29636-5348-4d05-af9a-57df052d0650",
   "metadata": {},
   "outputs": [
    {
     "name": "stdout",
     "output_type": "stream",
     "text": [
      "[[  7   2   3]\n",
      " [  5  -3   2]\n",
      " [ 10 -11   5]]\n",
      "[[15]\n",
      " [15]\n",
      " [36]]\n",
      "-36.0\n",
      "[[ 15   2   3]\n",
      " [ 15  -3   2]\n",
      " [ 36 -11   5]]\n",
      "[[ 7 15  3]\n",
      " [ 5 15  2]\n",
      " [10 36  5]]\n",
      "[[  7   2  15]\n",
      " [  5  -3  15]\n",
      " [ 10 -11  36]]\n",
      "1.999999999999998\n",
      "-1.0\n",
      "0.999999999999999\n"
     ]
    }
   ],
   "source": [
    "A = np.matrix('7 2 3; 5 -3 2; 10 -11 5')\n",
    "print(A)\n",
    "B = np.matrix('15; 15; 36')\n",
    "print(B)\n",
    "A_det = np.linalg.det(A)\n",
    "print(A_det)\n",
    "X_m = np.matrix(A)\n",
    "X_m[:, 0] = B\n",
    "print(X_m)\n",
    "Y_m = np.matrix(A)\n",
    "Y_m[:, 1] = B\n",
    "print(Y_m)\n",
    "Z_m = np.matrix(A)\n",
    "Z_m[:, 2] = B\n",
    "print(Z_m)\n",
    "x = np.linalg.det(X_m) / A_det\n",
    "y = np.linalg.det(Y_m) / A_det\n",
    "z = np.linalg.det(Z_m) / A_det\n",
    "print(x)\n",
    "print(y)\n",
    "print(z)"
   ]
  },
  {
   "cell_type": "code",
   "execution_count": 20,
   "id": "330b92b7-763f-42c9-b1f7-1ff85b9a32af",
   "metadata": {},
   "outputs": [
    {
     "name": "stdout",
     "output_type": "stream",
     "text": [
      "[[ 2  1  0]\n",
      " [ 1  0  3]\n",
      " [ 0  5 -1]]\n",
      "[[ 5]\n",
      " [16]\n",
      " [10]]\n",
      "-28.99999999999999\n",
      "[[ 5  1  0]\n",
      " [16  0  3]\n",
      " [10  5 -1]]\n",
      "[[ 2  5  0]\n",
      " [ 1 16  3]\n",
      " [ 0 10 -1]]\n",
      "[[ 2  1  5]\n",
      " [ 1  0 16]\n",
      " [ 0  5 10]]\n",
      "1.0\n",
      "3.000000000000001\n",
      "5.000000000000001\n"
     ]
    }
   ],
   "source": [
    "A = np.matrix('2 1 0; 1 0 3; 0 5 -1')\n",
    "print(A)\n",
    "B = np.matrix('5; 16; 10')\n",
    "print(B)\n",
    "A_det = np.linalg.det(A)\n",
    "print(A_det)\n",
    "X_m = np.matrix(A)\n",
    "X_m[:, 0] = B\n",
    "print(X_m)\n",
    "Y_m = np.matrix(A)\n",
    "Y_m[:, 1] = B\n",
    "print(Y_m)\n",
    "Z_m = np.matrix(A)\n",
    "Z_m[:, 2] = B\n",
    "print(Z_m)\n",
    "x = np.linalg.det(X_m) / A_det\n",
    "y = np.linalg.det(Y_m) / A_det\n",
    "z = np.linalg.det(Z_m) / A_det\n",
    "print(x)\n",
    "print(y)\n",
    "print(z)"
   ]
  },
  {
   "cell_type": "markdown",
   "id": "e00f426c-c039-4f61-8df2-4fd0c2727c08",
   "metadata": {},
   "source": [
    "Упражнение 2.4"
   ]
  },
  {
   "cell_type": "code",
   "execution_count": 21,
   "id": "f87c4d84-ef35-4256-a0f8-e8d6182e4af9",
   "metadata": {},
   "outputs": [
    {
     "name": "stdout",
     "output_type": "stream",
     "text": [
      "Matrix([[3, -5], [2, 7]])\n",
      "Matrix([[13], [81]])\n",
      "31\n",
      "Matrix([[13, -5], [81, 7]])\n",
      "Matrix([[3, 13], [2, 81]])\n",
      "16\n",
      "7\n",
      "Matrix([[0], [0]])\n"
     ]
    }
   ],
   "source": [
    "A = Matrix([[3, -5],[2, 7]])\n",
    "print(A)\n",
    "B = Matrix([[13],[81]])\n",
    "print(B)\n",
    "A_det = det(A)\n",
    "print(A_det)\n",
    "X_m = Matrix(A)\n",
    "X_m[:, 0] = B\n",
    "print(X_m)\n",
    "Y_m = Matrix(A)\n",
    "Y_m[:, 1] = B\n",
    "print(Y_m)\n",
    "x = det(X_m) / A_det\n",
    "y = det(Y_m) / A_det\n",
    "print(x)\n",
    "print(y)\n",
    "\n",
    "# Проверка через методом *\n",
    "X = Matrix([[x], [y]])\n",
    "X = Matrix(A*X)\n",
    "print(X-B)"
   ]
  },
  {
   "cell_type": "code",
   "execution_count": 22,
   "id": "e1105880-edba-4038-be56-2c40eaf2e73f",
   "metadata": {},
   "outputs": [
    {
     "name": "stdout",
     "output_type": "stream",
     "text": [
      "Matrix([[7, 2, 3], [5, -3, 2], [10, -11, 5]])\n",
      "Matrix([[15], [15], [36]])\n",
      "-36\n",
      "Matrix([[15, 2, 3], [15, -3, 2], [36, -11, 5]])\n",
      "Matrix([[7, 15, 3], [5, 15, 2], [10, 36, 5]])\n",
      "Matrix([[7, 2, 15], [5, -3, 15], [10, -11, 36]])\n",
      "2\n",
      "-1\n",
      "1\n",
      "Matrix([[0], [0], [0]])\n"
     ]
    }
   ],
   "source": [
    "A = Matrix([[7,2,3],[5,-3,2],[10,-11,5]])\n",
    "print(A)\n",
    "B = Matrix([[15],[15],[36]])\n",
    "print(B)\n",
    "A_det = det(A)\n",
    "print(A_det)\n",
    "X_m = Matrix(A)\n",
    "X_m[:, 0] = B\n",
    "print(X_m)\n",
    "Y_m = Matrix(A)\n",
    "Y_m[:, 1] = B\n",
    "print(Y_m)\n",
    "Z_m = Matrix(A)\n",
    "Z_m[:, 2] = B\n",
    "print(Z_m)\n",
    "x = det(X_m) / A_det\n",
    "y = det(Y_m) / A_det\n",
    "z = det(Z_m) / A_det\n",
    "print(x)\n",
    "print(y)\n",
    "print(z)\n",
    "\n",
    "# Проверка через методом *\n",
    "X = Matrix([[x], [y], [z]])\n",
    "X = Matrix(A*X)\n",
    "print(X-B)"
   ]
  },
  {
   "cell_type": "markdown",
   "id": "6ba436cd-04d0-44dd-b8dc-a1e19c697d33",
   "metadata": {},
   "source": [
    "Упражнение 2.5"
   ]
  },
  {
   "cell_type": "code",
   "execution_count": 23,
   "id": "494fd928-ed67-4e03-9f06-59754d8a2d17",
   "metadata": {},
   "outputs": [
    {
     "name": "stdout",
     "output_type": "stream",
     "text": [
      "[[ 3 -5]\n",
      " [ 2  7]]\n",
      "[[13]\n",
      " [81]]\n",
      "[[ 0.22580645  0.16129032]\n",
      " [-0.06451613  0.09677419]]\n"
     ]
    },
    {
     "data": {
      "text/plain": [
       "matrix([[16.],\n",
       "        [ 7.]])"
      ]
     },
     "execution_count": 23,
     "metadata": {},
     "output_type": "execute_result"
    }
   ],
   "source": [
    "A = np.matrix('3 -5; 2 7')\n",
    "print(A)\n",
    "B = np.matrix('13; 81')\n",
    "print(B)\n",
    "A_inv = np.linalg.inv(A)\n",
    "print(A_inv)\n",
    "X = A_inv.dot(B)\n",
    "X\n"
   ]
  },
  {
   "cell_type": "code",
   "execution_count": 24,
   "id": "36b295b4-69f5-452e-a1b7-275c884c164d",
   "metadata": {},
   "outputs": [
    {
     "name": "stdout",
     "output_type": "stream",
     "text": [
      "[[ 3 -4]\n",
      " [-6  8]]\n",
      "[[-6]\n",
      " [12]]\n"
     ]
    },
    {
     "ename": "LinAlgError",
     "evalue": "Singular matrix",
     "output_type": "error",
     "traceback": [
      "\u001b[1;31m---------------------------------------------------------------------------\u001b[0m",
      "\u001b[1;31mLinAlgError\u001b[0m                               Traceback (most recent call last)",
      "\u001b[1;32m~\\AppData\\Local\\Temp\\ipykernel_30964\\2305299235.py\u001b[0m in \u001b[0;36m<module>\u001b[1;34m\u001b[0m\n\u001b[0;32m      3\u001b[0m \u001b[0mB\u001b[0m \u001b[1;33m=\u001b[0m \u001b[0mnp\u001b[0m\u001b[1;33m.\u001b[0m\u001b[0mmatrix\u001b[0m\u001b[1;33m(\u001b[0m\u001b[1;34m'-6; 12'\u001b[0m\u001b[1;33m)\u001b[0m\u001b[1;33m\u001b[0m\u001b[1;33m\u001b[0m\u001b[0m\n\u001b[0;32m      4\u001b[0m \u001b[0mprint\u001b[0m\u001b[1;33m(\u001b[0m\u001b[0mB\u001b[0m\u001b[1;33m)\u001b[0m\u001b[1;33m\u001b[0m\u001b[1;33m\u001b[0m\u001b[0m\n\u001b[1;32m----> 5\u001b[1;33m \u001b[0mA_inv\u001b[0m \u001b[1;33m=\u001b[0m \u001b[0mnp\u001b[0m\u001b[1;33m.\u001b[0m\u001b[0mlinalg\u001b[0m\u001b[1;33m.\u001b[0m\u001b[0minv\u001b[0m\u001b[1;33m(\u001b[0m\u001b[0mA\u001b[0m\u001b[1;33m)\u001b[0m\u001b[1;33m\u001b[0m\u001b[1;33m\u001b[0m\u001b[0m\n\u001b[0m\u001b[0;32m      6\u001b[0m \u001b[0mprint\u001b[0m\u001b[1;33m(\u001b[0m\u001b[0mA_inv\u001b[0m\u001b[1;33m)\u001b[0m\u001b[1;33m\u001b[0m\u001b[1;33m\u001b[0m\u001b[0m\n\u001b[0;32m      7\u001b[0m \u001b[0mX\u001b[0m \u001b[1;33m=\u001b[0m \u001b[0mA_inv\u001b[0m\u001b[1;33m.\u001b[0m\u001b[0mdot\u001b[0m\u001b[1;33m(\u001b[0m\u001b[0mB\u001b[0m\u001b[1;33m)\u001b[0m\u001b[1;33m\u001b[0m\u001b[1;33m\u001b[0m\u001b[0m\n",
      "\u001b[1;32m<__array_function__ internals>\u001b[0m in \u001b[0;36minv\u001b[1;34m(*args, **kwargs)\u001b[0m\n",
      "\u001b[1;32m~\\anaconda3\\lib\\site-packages\\numpy\\linalg\\linalg.py\u001b[0m in \u001b[0;36minv\u001b[1;34m(a)\u001b[0m\n\u001b[0;32m    543\u001b[0m     \u001b[0msignature\u001b[0m \u001b[1;33m=\u001b[0m \u001b[1;34m'D->D'\u001b[0m \u001b[1;32mif\u001b[0m \u001b[0misComplexType\u001b[0m\u001b[1;33m(\u001b[0m\u001b[0mt\u001b[0m\u001b[1;33m)\u001b[0m \u001b[1;32melse\u001b[0m \u001b[1;34m'd->d'\u001b[0m\u001b[1;33m\u001b[0m\u001b[1;33m\u001b[0m\u001b[0m\n\u001b[0;32m    544\u001b[0m     \u001b[0mextobj\u001b[0m \u001b[1;33m=\u001b[0m \u001b[0mget_linalg_error_extobj\u001b[0m\u001b[1;33m(\u001b[0m\u001b[0m_raise_linalgerror_singular\u001b[0m\u001b[1;33m)\u001b[0m\u001b[1;33m\u001b[0m\u001b[1;33m\u001b[0m\u001b[0m\n\u001b[1;32m--> 545\u001b[1;33m     \u001b[0mainv\u001b[0m \u001b[1;33m=\u001b[0m \u001b[0m_umath_linalg\u001b[0m\u001b[1;33m.\u001b[0m\u001b[0minv\u001b[0m\u001b[1;33m(\u001b[0m\u001b[0ma\u001b[0m\u001b[1;33m,\u001b[0m \u001b[0msignature\u001b[0m\u001b[1;33m=\u001b[0m\u001b[0msignature\u001b[0m\u001b[1;33m,\u001b[0m \u001b[0mextobj\u001b[0m\u001b[1;33m=\u001b[0m\u001b[0mextobj\u001b[0m\u001b[1;33m)\u001b[0m\u001b[1;33m\u001b[0m\u001b[1;33m\u001b[0m\u001b[0m\n\u001b[0m\u001b[0;32m    546\u001b[0m     \u001b[1;32mreturn\u001b[0m \u001b[0mwrap\u001b[0m\u001b[1;33m(\u001b[0m\u001b[0mainv\u001b[0m\u001b[1;33m.\u001b[0m\u001b[0mastype\u001b[0m\u001b[1;33m(\u001b[0m\u001b[0mresult_t\u001b[0m\u001b[1;33m,\u001b[0m \u001b[0mcopy\u001b[0m\u001b[1;33m=\u001b[0m\u001b[1;32mFalse\u001b[0m\u001b[1;33m)\u001b[0m\u001b[1;33m)\u001b[0m\u001b[1;33m\u001b[0m\u001b[1;33m\u001b[0m\u001b[0m\n\u001b[0;32m    547\u001b[0m \u001b[1;33m\u001b[0m\u001b[0m\n",
      "\u001b[1;32m~\\anaconda3\\lib\\site-packages\\numpy\\linalg\\linalg.py\u001b[0m in \u001b[0;36m_raise_linalgerror_singular\u001b[1;34m(err, flag)\u001b[0m\n\u001b[0;32m     86\u001b[0m \u001b[1;33m\u001b[0m\u001b[0m\n\u001b[0;32m     87\u001b[0m \u001b[1;32mdef\u001b[0m \u001b[0m_raise_linalgerror_singular\u001b[0m\u001b[1;33m(\u001b[0m\u001b[0merr\u001b[0m\u001b[1;33m,\u001b[0m \u001b[0mflag\u001b[0m\u001b[1;33m)\u001b[0m\u001b[1;33m:\u001b[0m\u001b[1;33m\u001b[0m\u001b[1;33m\u001b[0m\u001b[0m\n\u001b[1;32m---> 88\u001b[1;33m     \u001b[1;32mraise\u001b[0m \u001b[0mLinAlgError\u001b[0m\u001b[1;33m(\u001b[0m\u001b[1;34m\"Singular matrix\"\u001b[0m\u001b[1;33m)\u001b[0m\u001b[1;33m\u001b[0m\u001b[1;33m\u001b[0m\u001b[0m\n\u001b[0m\u001b[0;32m     89\u001b[0m \u001b[1;33m\u001b[0m\u001b[0m\n\u001b[0;32m     90\u001b[0m \u001b[1;32mdef\u001b[0m \u001b[0m_raise_linalgerror_nonposdef\u001b[0m\u001b[1;33m(\u001b[0m\u001b[0merr\u001b[0m\u001b[1;33m,\u001b[0m \u001b[0mflag\u001b[0m\u001b[1;33m)\u001b[0m\u001b[1;33m:\u001b[0m\u001b[1;33m\u001b[0m\u001b[1;33m\u001b[0m\u001b[0m\n",
      "\u001b[1;31mLinAlgError\u001b[0m: Singular matrix"
     ]
    }
   ],
   "source": [
    "A = np.matrix('3 -4; -6 8')\n",
    "print(A)\n",
    "B = np.matrix('-6; 12')\n",
    "print(B)\n",
    "A_inv = np.linalg.inv(A)\n",
    "print(A_inv)\n",
    "X = A_inv.dot(B)\n",
    "X"
   ]
  },
  {
   "cell_type": "markdown",
   "id": "ca7b7573-d9c7-4f5d-a560-d31ad9c524e6",
   "metadata": {},
   "source": [
    "Нет решения"
   ]
  },
  {
   "cell_type": "code",
   "execution_count": 25,
   "id": "164df571-1f42-4d6f-90ed-7bdad6806ee6",
   "metadata": {},
   "outputs": [
    {
     "name": "stdout",
     "output_type": "stream",
     "text": [
      "[[  7   2   3]\n",
      " [  5  -3   2]\n",
      " [ 10 -11   5]]\n",
      "[[15]\n",
      " [15]\n",
      " [36]]\n",
      "[[-0.19444444  1.19444444 -0.36111111]\n",
      " [ 0.13888889 -0.13888889 -0.02777778]\n",
      " [ 0.69444444 -2.69444444  0.86111111]]\n"
     ]
    },
    {
     "data": {
      "text/plain": [
       "matrix([[ 2.],\n",
       "        [-1.],\n",
       "        [ 1.]])"
      ]
     },
     "execution_count": 25,
     "metadata": {},
     "output_type": "execute_result"
    }
   ],
   "source": [
    "A = np.matrix('7 2 3; 5 -3 2; 10 -11 5')\n",
    "print(A)\n",
    "B = np.matrix('15; 15; 36')\n",
    "print(B)\n",
    "A_inv = np.linalg.inv(A)\n",
    "print(A_inv)\n",
    "X = A_inv.dot(B)\n",
    "X"
   ]
  },
  {
   "cell_type": "code",
   "execution_count": 26,
   "id": "692104a1-e8be-4957-8110-700e4f6308c1",
   "metadata": {},
   "outputs": [
    {
     "name": "stdout",
     "output_type": "stream",
     "text": [
      "[[ 2  1  0]\n",
      " [ 1  0  3]\n",
      " [ 0  5 -1]]\n",
      "[[ 5]\n",
      " [16]\n",
      " [10]]\n",
      "[[ 0.51724138 -0.03448276 -0.10344828]\n",
      " [-0.03448276  0.06896552  0.20689655]\n",
      " [-0.17241379  0.34482759  0.03448276]]\n"
     ]
    },
    {
     "data": {
      "text/plain": [
       "matrix([[1.],\n",
       "        [3.],\n",
       "        [5.]])"
      ]
     },
     "execution_count": 26,
     "metadata": {},
     "output_type": "execute_result"
    }
   ],
   "source": [
    "A = np.matrix('2 1 0; 1 0 3; 0 5 -1')\n",
    "print(A)\n",
    "B = np.matrix('5; 16; 10')\n",
    "print(B)\n",
    "A_inv = np.linalg.inv(A)\n",
    "print(A_inv)\n",
    "X = A_inv.dot(B)\n",
    "X"
   ]
  }
 ],
 "metadata": {
  "kernelspec": {
   "display_name": "Python 3 (ipykernel)",
   "language": "python",
   "name": "python3"
  },
  "language_info": {
   "codemirror_mode": {
    "name": "ipython",
    "version": 3
   },
   "file_extension": ".py",
   "mimetype": "text/x-python",
   "name": "python",
   "nbconvert_exporter": "python",
   "pygments_lexer": "ipython3",
   "version": "3.9.13"
  }
 },
 "nbformat": 4,
 "nbformat_minor": 5
}
